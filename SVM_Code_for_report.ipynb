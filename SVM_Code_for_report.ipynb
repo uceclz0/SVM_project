{
 "cells": [
  {
   "cell_type": "code",
   "execution_count": 1,
   "metadata": {},
   "outputs": [],
   "source": [
    "import numpy as np  \n",
    "import random  \n",
    "import time \n",
    "import pandas as pd\n",
    "import seaborn as sns\n",
    "import matplotlib.pyplot as plt\n",
    "import numpy.linalg as la\n",
    "from numpy.linalg import norm\n",
    "import random\n",
    "from functools import partial as curry\n"
   ]
  },
  {
   "cell_type": "markdown",
   "metadata": {},
   "source": [
    "# Define the kernel functions"
   ]
  },
  {
   "cell_type": "markdown",
   "metadata": {},
   "source": [
    "Linear Kernel: $$ K(X,Y)=X^T Y $$\n",
    "Gaussian kernel:$$ K \\left( X,Y \\right ) = e^{ \\left( - \\frac{||X-Y||^2}{2\\sigma^2} \\right) },  \\sigma > 0 $$\n",
    "Polynomial kernel:$$ K \\left( X,Y \\right ) = (X^T Y + r)^n, r \\geq 0  $$\n",
    "Sigmoid kernel:$$ K \\left( X,Y \\right ) = tanh(\\gamma X^T Y + r)$$"
   ]
  },
  {
   "cell_type": "code",
   "execution_count": 3,
   "metadata": {},
   "outputs": [
    {
     "name": "stdout",
     "output_type": "stream",
     "text": [
      "0.9753099120283326\n"
     ]
    }
   ],
   "source": [
    "def k_linear(X, Y):\n",
    "    return np.dot(X, Y)\n",
    "def k_gaussian(X, Y, sigma = 0.01):\n",
    "    return np.exp(-norm(X - Y) ** 2. / (2 * sigma ** 2))\n",
    "def k_polynomial(X, Y, r = 0.01, n = 2):\n",
    "    return (np.dot(X, Y) + r) ** n\n",
    "def k_rbf(X, Y, gamma=1):\n",
    "    return np.exp(- gamma * (np.linalg.norm(X - Y) ** 2))\n",
    "def k_sigmoid(X, Y, gamma = 0.01, r = 0.01):\n",
    "    return np.tanh(gamma * np.dot(X.T, Y) + r)\n",
    "\n",
    "## to use kernel other than k_linear with extra arguments in the kernel argument\n",
    "## one could use  kernel = curry(k_gaussian, sigma = 0.02)\n",
    "kernel = curry(k_gaussian, sigma = 10)\n",
    "X = np.array([0., 1.])\n",
    "Y = np.array([1., 3.])\n",
    "print(kernel(X, Y))"
   ]
  },
  {
   "cell_type": "markdown",
   "metadata": {},
   "source": [
    "# Define the SVM type"
   ]
  },
  {
   "cell_type": "code",
   "execution_count": 199,
   "metadata": {},
   "outputs": [],
   "source": [
    "class SVM:\n",
    "    def __init__(self, train, solver, kernel, c = 10):\n",
    "        \"\"\"\n",
    "        ps is a list of [Y, *X]\n",
    "        Y = 1 or -1(class)\n",
    "        X is the features\n",
    "        C is the cost\n",
    "        solver is the solver function to get the support vector(w)\n",
    "        \"\"\"\n",
    "        self.ps = train\n",
    "        self.c = c\n",
    "        self.solver = solver\n",
    "        self.kernel = kernel\n",
    "        self.w, self.b, self.alpha, self.history = solver(self.ps, self.kernel, self.c)\n",
    "        \n",
    "    def draw_history(self, from_index = 0):\n",
    "        n = len(self.history) - 1\n",
    "        arr = np.zeros(n - from_index, dtype = np.float64)\n",
    "        for i in range(from_index, n):\n",
    "            arr[i - from_index] = 0 if norm(self.history[i] - self.alpha) < 1e-6 else norm(self.history[i + 1] - self.alpha) / norm(self.history[i] - self.alpha)\n",
    "        plt.plot(arr)\n",
    "        plt.show()\n",
    "        \n",
    "    def classify(self, X):\n",
    "        if self.kernel(self.w.T, X) + self.b > 1e-6:\n",
    "            return 1\n",
    "        else:\n",
    "            return -1\n",
    "    \n",
    "    def judge(self, a):\n",
    "        if a > 1e-6:\n",
    "            return 1\n",
    "        else:\n",
    "            return 0\n",
    "    def test(self, x, y):\n",
    "        n = y.shape[0]\n",
    "        stat = np.array([[0, 0], [0, 0]])\n",
    "        for i in range(n):\n",
    "            stat[self.judge(self.classify(x[i])), self.judge(y[i])] += 1\n",
    "        prec   = stat[1, 1] / (stat[1, 1] + stat[1, 0])\n",
    "        recall = stat[1, 1] / (stat[1, 1] + stat[0, 1])\n",
    "#         return 2. * prec * recall / (prec + recall)\n",
    "        return (stat[1, 1] + stat[0, 0]) / (stat[1, 1] + stat[1, 0] + stat[0, 0] + stat[0, 1])\n",
    "#         return stat"
   ]
  },
  {
   "cell_type": "markdown",
   "metadata": {},
   "source": [
    "# Define the dual form of optimization problem solver:\n",
    " $$L_D = \\sum \\limits_{i=1}^{m} \\alpha_i - \\frac{1}{2}\\sum \\limits_{i,j=1}^{m} y_i y_j \\alpha_i \\alpha_j (x_i)^{T} x_j$$\n",
    " $$ 0 \\leq \\alpha_i \\leq C$$\n",
    " $$\\sum \\limits_{i=1}^{m} \\alpha_i y_i = 0 \\ \\ \\ \\ \\ for \\ \\ \\ i = 1,...,m$$"
   ]
  },
  {
   "cell_type": "markdown",
   "metadata": {},
   "source": [
    "# SMO\n",
    "\\begin{equation}\n",
    "    \\alpha_2^{new}=   \n",
    "    \\begin{cases}\n",
    "    H & if \\hat{\\alpha_2} > H \\\\\n",
    "    \\hat{\\alpha_2} & if L \\leq \\hat{\\alpha_2} \\leq H \\\\\n",
    "    L & if \\hat{\\alpha_2} < L \\\\\n",
    "    \\end{cases}\n",
    "    \\end{equation}"
   ]
  },
  {
   "cell_type": "code",
   "execution_count": 5,
   "metadata": {},
   "outputs": [],
   "source": [
    "# The SMO Solver\n",
    "def smosolver(ps, kernel, c = 10, max_iter = 5000, EPS = 1e-6):\n",
    "    n = len(ps)\n",
    "    y = np.array(ps[:,0], dtype = np.float32)\n",
    "    x = np.array(ps[:,1:], dtype = np.float32)\n",
    "    idx = np.arange(0, n)\n",
    "    alpha = np.zeros((n,))\n",
    "    K = np.zeros((n, n))\n",
    "    for i in range(n):\n",
    "        for j in range(n):\n",
    "            K[i][j] = kernel(x[i], x[j])\n",
    "    b = 0              \n",
    "    def f(i):\n",
    "        sum = b\n",
    "        for k in range(n):\n",
    "            sum += y[k] * alpha[k] * K[i][k]\n",
    "        return sum\n",
    "    allf = lambda : np.array([f(i) for i in range(n)])\n",
    "    history = []\n",
    "    for i in range(max_iter):\n",
    "        if i % 100 == 0:\n",
    "            print(i)\n",
    "        history.append(np.copy(alpha))\n",
    "        a1 = int(np.random.rand() * n)\n",
    "        a2 = int(np.random.rand() * (n - 1))\n",
    "        if a2 >= a1:\n",
    "            a2 += 1\n",
    "        if abs(y[a1] - y[a2]) > EPS:\n",
    "            L = max(0., alpha[a2] - alpha[a1])\n",
    "            H = min(c, c + alpha[a2] - alpha[a1])\n",
    "        else:\n",
    "            L = max(0., alpha[a2] + alpha[a1] - c)\n",
    "            H = min(c, alpha[a2] + alpha[a1])\n",
    "        y1 = y[a1]\n",
    "        y2 = y[a2]\n",
    "        k11 = K[a1][a1]\n",
    "        k22 = K[a2][a2]\n",
    "        k12 = K[a1][a2]\n",
    "        eta = k11 + k22 - 2 * k12\n",
    "        if eta <= 0:\n",
    "            continue\n",
    "        a1old = alpha[a1]\n",
    "        a2old = alpha[a2]\n",
    "        e1 = f(a1) - y1\n",
    "        e2 = f(a2) - y2\n",
    "        a2new = np.clip(alpha[a2] + y2 * (e1 - e2) / eta, L, H)\n",
    "        a1old, a2old = alpha[a1], alpha[a2]\n",
    "        da2 = a2new - a2old\n",
    "        da1 = -y2 * y1 * da2\n",
    "        alpha[a2] = a2new\n",
    "        alpha[a1] += da1\n",
    "        b1 = b - e1 - y1 * k11 * da1 - y2 * k12 * da2\n",
    "        b2 = b - e2 - y1 * k12 * da1 - y2 * k22 * da2\n",
    "        if EPS < alpha[a1] < c - EPS:\n",
    "            b = b1\n",
    "        elif EPS < alpha[a2] < c - EPS:\n",
    "            b = b2\n",
    "        else:\n",
    "            b = (b1 + b2) / 2\n",
    "    history.append(alpha[:])\n",
    "    w = np.dot(x.T, np.multiply(alpha,y))\n",
    "    return (w, b, alpha, history)"
   ]
  },
  {
   "cell_type": "markdown",
   "metadata": {},
   "source": [
    "#### GD-$\\alpha$-solver\n",
    "This is method which implement by mixing QP and basic GD. \n",
    "#### The objective function for QP\n",
    "$$Q(\\alpha) = \\frac{1}{2}\\alpha H \\alpha - \\sum \\limits_{i=1}^{m} \\alpha_i + \\mu_k \\sum \\limits_{i=1}^{m} max(|\\alpha_i - \\frac{C}{2}| - \\frac{C}{2}, 0)^2 + \\lambda(\\sum \\limits_{i=1}^{m} \\alpha_i y_i)^2$$\n",
    "#### The gradient function of QP\n",
    "$$\\frac{\\partial{Q(\\alpha)}}{\\partial{\\alpha_i}} = [A\\alpha]_i -1 + 2\\mu_k clip(\\alpha) + \\lambda(2\\alpha^{T}y)y_i$$\n",
    "\n",
    "\n",
    "Using a GD to minimize the norm of this vector:\n",
    "   $$(|f(x_0) \\cdot y_0 - 1|,\\quad |f(x_1) \\cdot y_1 - 1|, \\quad ... |f(x_n)\\cdot y_n - 1|) +( \\quad clip(\\alpha_0),\\quad clip(\\alpha_1),\\quad ...,\\quad clip(\\alpha_n)\\ ) + \\quad (|\\Sigma{\\alpha_i y_iy_j|}) $$\n",
    "   \n",
    "   The clip is defined as:\n",
    "       $$ \\quad\\quad\\quad\\quad -2\\alpha \\quad if\\quad a < 0$$\n",
    "       $$ clip(\\alpha) = 0\\quad if\\quad 0 < a < c$$\n",
    "       $$ \\quad\\quad\\quad\\quad 2(\\alpha - c)\\quad if\\quad a > c$$"
   ]
  },
  {
   "cell_type": "code",
   "execution_count": 165,
   "metadata": {},
   "outputs": [],
   "source": [
    "# The Quadratic Penalty Solver by Gradient Descent\n",
    "def gdalphasolver(ps, kernel, c = 10, max_iter = 50, EPS = 1e-12):\n",
    "    y = np.array(ps[:,0], dtype = np.float64)\n",
    "    x = np.array(ps[:,1:], dtype = np.float64)\n",
    "    n, d = x.shape\n",
    "    w = np.zeros(d, dtype = np.float64)\n",
    "    alpha = np.zeros(n, dtype = np.float64)\n",
    "    \n",
    "    K = np.zeros((n, n))\n",
    "    for i in range(n):\n",
    "        for j in range(n):\n",
    "            K[i][j] = kernel(x[i], x[j])\n",
    "    b = 0              \n",
    "    def f(i):\n",
    "        sum = b\n",
    "        for k in range(n):\n",
    "            sum += y[k] * alpha[k] * K[i][k]\n",
    "        return sum\n",
    "    \n",
    "    clip = lambda v: 2*abs(v) if v < 0 else (2*abs(v - c) if v > c else 0)\n",
    "    allf = lambda : np.array([f(i) * y[i] - 1 for i in range(n)] + \n",
    "                             [clip(alpha[i]) for i in range(n)] +\n",
    "                             [(np.dot(alpha, y))*y[i] for i in range(n)])\n",
    "    b = 0.\n",
    "    eta = 1e-4\n",
    "    history = []\n",
    "    while norm(allf()) > EPS and max_iter > 0:\n",
    "        history.append(np.copy(alpha))\n",
    "        print(max_iter)\n",
    "        ss = norm(allf())\n",
    "        i = int(np.random.rand() * n)\n",
    "        old = alpha[i]\n",
    "        alpha[i] = (1 - eta) * alpha[i] - eta * c\n",
    "        if norm(allf()) > ss:\n",
    "            alpha[i] = (1 - eta) * old + eta * c\n",
    "        w = np.dot(x.T, np.multiply(alpha, y))\n",
    "        b = np.mean(y - kernel(x, w))\n",
    "        max_iter -= 1\n",
    "    history.append(alpha[:])\n",
    "    return (w, b, alpha, history)"
   ]
  },
  {
   "cell_type": "code",
   "execution_count": 193,
   "metadata": {},
   "outputs": [],
   "source": [
    "positive_phi = np.random.uniform(low=0, high=2*np.pi, size=400)\n",
    "positive_rho = np.random.uniform(low=2, high=4, size=400)\n",
    "negative_phi = np.random.uniform(low=0, high=2*np.pi, size=400)\n",
    "negative_rho = np.random.uniform(low=0, high=2, size=400)\n",
    "\n",
    "def pol2cart(rho, phi):\n",
    "    '''\n",
    "    function convert polar coordinates to cartisian coordinates\n",
    "    '''\n",
    "    x = rho * np.cos(phi)\n",
    "    y = rho * np.sin(phi)\n",
    "    return(x, y)\n",
    "\n",
    "positive_x, positive_y = pol2cart(positive_rho, positive_phi)\n",
    "negative_x, negative_y = pol2cart(negative_rho, negative_phi)\n",
    "\n",
    "x = np.zeros((800, 2))\n",
    "\n",
    "x[0:400, 0] = positive_x\n",
    "x[0:400, 1] = positive_y\n",
    "\n",
    "x[400: , 0] = negative_x\n",
    "x[400: , 1] = negative_y\n",
    "\n",
    "y = np.zeros((800,1))\n",
    "\n",
    "y[0:400] = 1\n",
    "y[400: ] = -1\n",
    "\n",
    "train_data = np.hstack((y, x))\n",
    "train_xs = x\n",
    "train_ys = y"
   ]
  },
  {
   "cell_type": "markdown",
   "metadata": {},
   "source": [
    "#### Then, we visulize our data set"
   ]
  },
  {
   "cell_type": "code",
   "execution_count": 194,
   "metadata": {},
   "outputs": [
    {
     "data": {
      "image/png": "[encoded data removed]",
      "text/plain": [
       "<Figure size 504x360 with 1 Axes>"
      ]
     },
     "metadata": {
      "needs_background": "light"
     },
     "output_type": "display_data"
    }
   ],
   "source": [
    "def plot_dataset(xs, ys):\n",
    "    malignant1 = plt.scatter(xs[ys.squeeze() == 1, 0], xs[ys.squeeze() == 1, 1], label = 'malignant', s = 5)\n",
    "    benign1 = plt.scatter(xs[ys.squeeze() == -1, 0], xs[ys.squeeze() == -1, 1], label = 'benign', s = 5)\n",
    "    plt.title('data from training data')\n",
    "    plt.legend(loc = 'upper right')\n",
    "    \n",
    "plt.figure(figsize=(7, 5))\n",
    "plot_dataset(train_xs, train_ys)\n",
    "plt.show()"
   ]
  },
  {
   "cell_type": "markdown",
   "metadata": {},
   "source": [
    "Now, we start to try linear kernel and SMO algorithm firstly."
   ]
  },
  {
   "cell_type": "code",
   "execution_count": 40,
   "metadata": {},
   "outputs": [
    {
     "name": "stdout",
     "output_type": "stream",
     "text": [
      "0\n",
      "100\n",
      "200\n",
      "300\n",
      "400\n",
      "500\n",
      "600\n",
      "700\n",
      "800\n",
      "900\n",
      "1000\n",
      "1100\n",
      "1200\n",
      "1300\n",
      "1400\n",
      "1500\n",
      "1600\n",
      "1700\n",
      "1800\n",
      "1900\n",
      "2000\n",
      "2100\n",
      "2200\n",
      "2300\n",
      "2400\n",
      "2500\n",
      "2600\n",
      "2700\n",
      "2800\n",
      "2900\n",
      "3000\n",
      "3100\n",
      "3200\n",
      "3300\n",
      "3400\n",
      "3500\n",
      "3600\n",
      "3700\n",
      "3800\n",
      "3900\n",
      "4000\n",
      "4100\n",
      "4200\n",
      "4300\n",
      "4400\n",
      "4500\n",
      "4600\n",
      "4700\n",
      "4800\n",
      "4900\n",
      "totally cost 20.6719491481781\n"
     ]
    }
   ],
   "source": [
    "time_start  = time.time()\n",
    "svm = SVM(train_data, smosolver, kernel = k_linear)\n",
    "time_end = time.time()\n",
    "print('totally cost',time_end-time_start)"
   ]
  },
  {
   "cell_type": "code",
   "execution_count": 41,
   "metadata": {},
   "outputs": [
    {
     "name": "stdout",
     "output_type": "stream",
     "text": [
      "[-0.20696918  0.60298412] -1.3008972397152432\n",
      "(800,)\n",
      "Train data fscore (0.615, array([[400, 308],\n",
      "       [  0,  92]]))\n"
     ]
    }
   ],
   "source": [
    "print(svm.w, svm.b)\n",
    "print(np.shape(svm.alpha))\n",
    "print('Train data fscore', svm.test(train_xs, train_ys))"
   ]
  },
  {
   "cell_type": "code",
   "execution_count": 42,
   "metadata": {},
   "outputs": [
    {
     "data": {
      "image/png": "[encoded data removed]",
      "text/plain": [
       "<Figure size 432x288 with 1 Axes>"
      ]
     },
     "metadata": {
      "needs_background": "light"
     },
     "output_type": "display_data"
    }
   ],
   "source": [
    "# The plot of alpha's convergence\n",
    "svm.draw_history()"
   ]
  },
  {
   "cell_type": "markdown",
   "metadata": {},
   "source": [
    "The following trial is about using polynomial kernel"
   ]
  },
  {
   "cell_type": "code",
   "execution_count": 188,
   "metadata": {},
   "outputs": [
    {
     "name": "stdout",
     "output_type": "stream",
     "text": [
      "0\n",
      "100\n",
      "200\n",
      "300\n",
      "400\n",
      "500\n",
      "600\n",
      "700\n",
      "800\n",
      "900\n",
      "1000\n",
      "1100\n",
      "1200\n",
      "1300\n",
      "1400\n",
      "1500\n",
      "1600\n",
      "1700\n",
      "1800\n",
      "1900\n",
      "2000\n",
      "2100\n",
      "2200\n",
      "2300\n",
      "2400\n",
      "2500\n",
      "2600\n",
      "2700\n",
      "2800\n",
      "2900\n",
      "3000\n",
      "3100\n",
      "3200\n",
      "3300\n",
      "3400\n",
      "3500\n",
      "3600\n",
      "3700\n",
      "3800\n",
      "3900\n",
      "4000\n",
      "4100\n",
      "4200\n",
      "4300\n",
      "4400\n",
      "4500\n",
      "4600\n",
      "4700\n",
      "4800\n",
      "4900\n",
      "totally cost 22.353877067565918\n"
     ]
    }
   ],
   "source": [
    "time_start  = time.time()\n",
    "svm1 = SVM(train_data, smosolver, kernel = k_polynomial)\n",
    "time_end = time.time()\n",
    "print('totally cost',time_end-time_start)"
   ]
  },
  {
   "cell_type": "code",
   "execution_count": 189,
   "metadata": {},
   "outputs": [
    {
     "name": "stdout",
     "output_type": "stream",
     "text": [
      "[-0.11008675  2.45193725] -8.509221290335049\n",
      "Train data fscore (0.77875, array([[325, 102],\n",
      "       [ 75, 298]]))\n"
     ]
    }
   ],
   "source": [
    "print(svm1.w, svm1.b)\n",
    "print('Train data fscore', svm1.test(train_xs, train_ys))"
   ]
  },
  {
   "cell_type": "code",
   "execution_count": 190,
   "metadata": {},
   "outputs": [
    {
     "data": {
      "image/png": "[encoded data removed]",
      "text/plain": [
       "<Figure size 432x288 with 1 Axes>"
      ]
     },
     "metadata": {
      "needs_background": "light"
     },
     "output_type": "display_data"
    }
   ],
   "source": [
    "# The plot of alpha's convergence\n",
    "svm1.draw_history()\n"
   ]
  },
  {
   "cell_type": "markdown",
   "metadata": {},
   "source": [
    "The following code is for visulize the result our second trial."
   ]
  },
  {
   "cell_type": "code",
   "execution_count": 171,
   "metadata": {},
   "outputs": [
    {
     "data": {
      "text/plain": [
       "Text(0.5, 1.0, 'The trained model of SMO mthod')"
      ]
     },
     "execution_count": 171,
     "metadata": {},
     "output_type": "execute_result"
    },
    {
     "data": {
      "image/png": "[encoded data removed]",
      "text/plain": [
       "<Figure size 432x432 with 1 Axes>"
      ]
     },
     "metadata": {
      "needs_background": "light"
     },
     "output_type": "display_data"
    }
   ],
   "source": [
    "def fx_predict(ps, point, alpha, b, kernel = k_polynomial):\n",
    "    '''\n",
    "    calculate f(x) with kernels\n",
    "    '''\n",
    "    y = np.array(ps[:,0])\n",
    "    x = np.array(ps[:,1:])\n",
    "    fx = 0\n",
    "    \n",
    "    for j in range(np.size(y)):\n",
    "        fx += alpha[j] * y[j] * kernel(x[j], point)\n",
    "    \n",
    "    ff = fx + b\n",
    "    if ff >= 0:\n",
    "        return 1\n",
    "    if ff < 0:\n",
    "        return -1\n",
    "                   \n",
    "x_plot = y_plot = np.linspace(-5, 5, 100)\n",
    "z_plot = np.array([fx_predict(\n",
    "    train_data, np.array([i, j]), svm1.alpha, svm1.b) for j in y_plot for i in x_plot])\n",
    "Z = z_plot.reshape(100,100)\n",
    "plt.figure(figsize=(6,6))\n",
    "\n",
    "plt.plot(positive_x, positive_y, 'bx')\n",
    "plt.plot(negative_x, negative_y, 'r.')\n",
    "plt.contourf(x_plot, x_plot, Z, 3)\n",
    "plt.xlabel('x')\n",
    "plt.ylabel('y')\n",
    "plt.title('The trained model of SMO mthod')"
   ]
  },
  {
   "cell_type": "code",
   "execution_count": 201,
   "metadata": {
    "scrolled": true
   },
   "outputs": [
    {
     "name": "stdout",
     "output_type": "stream",
     "text": [
      "0\n",
      "100\n",
      "200\n",
      "300\n",
      "400\n",
      "500\n",
      "600\n",
      "700\n",
      "800\n",
      "900\n",
      "1000\n",
      "1100\n",
      "1200\n",
      "1300\n",
      "1400\n",
      "1500\n",
      "1600\n",
      "1700\n",
      "1800\n",
      "1900\n",
      "2000\n",
      "2100\n",
      "2200\n",
      "2300\n",
      "2400\n",
      "2500\n",
      "2600\n",
      "2700\n",
      "2800\n",
      "2900\n",
      "3000\n",
      "3100\n",
      "3200\n",
      "3300\n",
      "3400\n",
      "3500\n",
      "3600\n",
      "3700\n",
      "3800\n",
      "3900\n",
      "4000\n",
      "4100\n",
      "4200\n",
      "4300\n",
      "4400\n",
      "4500\n",
      "4600\n",
      "4700\n",
      "4800\n",
      "4900\n",
      "totally cost 27.600088119506836\n"
     ]
    }
   ],
   "source": [
    "time_start  = time.time()\n",
    "svm2 = SVM(train_data, smosolver, kernel = k_gaussian)\n",
    "time_end = time.time()\n",
    "print('totally cost',time_end-time_start)"
   ]
  },
  {
   "cell_type": "code",
   "execution_count": 202,
   "metadata": {},
   "outputs": [
    {
     "name": "stdout",
     "output_type": "stream",
     "text": [
      "[19.79336584 42.4267835 ] -0.015583488966040615\n",
      "Train data fscore 0.5\n"
     ]
    },
    {
     "name": "stderr",
     "output_type": "stream",
     "text": [
      "/anaconda3/lib/python3.7/site-packages/ipykernel_launcher.py:40: RuntimeWarning: invalid value encountered in long_scalars\n"
     ]
    }
   ],
   "source": [
    "print(svm2.w, svm2.b)\n",
    "# print(f'Train data fscore = {svm.test(train_xs, train_ys)}')\n",
    "# print(f'Test data fscore = {svm.test(test_xs, test_ys)}')\n",
    "print('Train data fscore', svm2.test(train_xs, train_ys))\n",
    "# print('Test data fscore', svm2.test(test_xs, test_ys))"
   ]
  },
  {
   "cell_type": "code",
   "execution_count": 203,
   "metadata": {},
   "outputs": [
    {
     "data": {
      "image/png": "[encoded data removed]",
      "text/plain": [
       "<Figure size 432x288 with 1 Axes>"
      ]
     },
     "metadata": {
      "needs_background": "light"
     },
     "output_type": "display_data"
    }
   ],
   "source": [
    "svm2.draw_history()"
   ]
  },
  {
   "cell_type": "markdown",
   "metadata": {},
   "source": [
    "From this three trials for linear, polynomial, gaussian kernel under SMO algorithm, we can find the polynomial have\n",
    "a best performance. And Gaussian costs the much time due to the complexity of computing. "
   ]
  },
  {
   "cell_type": "markdown",
   "metadata": {},
   "source": [
    "Next, we start to try QP method under the same random data set. And the first trial kernel is linear."
   ]
  },
  {
   "cell_type": "code",
   "execution_count": 166,
   "metadata": {},
   "outputs": [
    {
     "name": "stdout",
     "output_type": "stream",
     "text": [
      "50\n",
      "49\n",
      "48\n",
      "47\n",
      "46\n",
      "45\n",
      "44\n",
      "43\n",
      "42\n",
      "41\n",
      "40\n",
      "39\n",
      "38\n",
      "37\n",
      "36\n",
      "35\n",
      "34\n",
      "33\n",
      "32\n",
      "31\n",
      "30\n",
      "29\n",
      "28\n",
      "27\n",
      "26\n",
      "25\n",
      "24\n",
      "23\n",
      "22\n",
      "21\n",
      "20\n",
      "19\n",
      "18\n",
      "17\n",
      "16\n",
      "15\n",
      "14\n",
      "13\n",
      "12\n",
      "11\n",
      "10\n",
      "9\n",
      "8\n",
      "7\n",
      "6\n",
      "5\n",
      "4\n",
      "3\n",
      "2\n",
      "1\n",
      "totally cost 56.58932900428772\n"
     ]
    }
   ],
   "source": [
    "time_start  = time.time()\n",
    "svml = SVM(train_data, gdalphasolver, kernel = k_linear, c = 10)\n",
    "time_end = time.time()\n",
    "print('totally cost',time_end-time_start)"
   ]
  },
  {
   "cell_type": "code",
   "execution_count": 157,
   "metadata": {},
   "outputs": [
    {
     "name": "stdout",
     "output_type": "stream",
     "text": [
      "[ 0.00176628 -0.01844063] -0.0006881355668120648\n",
      "Train data fscore (0.5275, array([[218, 196],\n",
      "       [182, 204]]))\n"
     ]
    }
   ],
   "source": [
    "print(svml.w, svml.b)\n",
    "# print(f'Train data fscore = {svm.test(train_xs, train_ys)}')\n",
    "# print(f'Test data fscore = {svm.test(test_xs, test_ys)}')\n",
    "print('Train data fscore', svml.test(train_xs, train_ys))\n",
    "# print('Test data fscore', svm3.test(test_xs, test_ys))"
   ]
  },
  {
   "cell_type": "code",
   "execution_count": 191,
   "metadata": {},
   "outputs": [
    {
     "data": {
      "image/png": "[encoded data removed]",
      "text/plain": [
       "<Figure size 432x288 with 1 Axes>"
      ]
     },
     "metadata": {
      "needs_background": "light"
     },
     "output_type": "display_data"
    }
   ],
   "source": [
    "svml.draw_history()"
   ]
  },
  {
   "cell_type": "markdown",
   "metadata": {},
   "source": [
    "The second trial is about using polynomial kernel."
   ]
  },
  {
   "cell_type": "code",
   "execution_count": 176,
   "metadata": {},
   "outputs": [
    {
     "name": "stdout",
     "output_type": "stream",
     "text": [
      "50\n",
      "49\n",
      "48\n",
      "47\n",
      "46\n",
      "45\n",
      "44\n",
      "43\n",
      "42\n",
      "41\n",
      "40\n",
      "39\n",
      "38\n",
      "37\n",
      "36\n",
      "35\n",
      "34\n",
      "33\n",
      "32\n",
      "31\n",
      "30\n",
      "29\n",
      "28\n",
      "27\n",
      "26\n",
      "25\n",
      "24\n",
      "23\n",
      "22\n",
      "21\n",
      "20\n",
      "19\n",
      "18\n",
      "17\n",
      "16\n",
      "15\n",
      "14\n",
      "13\n",
      "12\n",
      "11\n",
      "10\n",
      "9\n",
      "8\n",
      "7\n",
      "6\n",
      "5\n",
      "4\n",
      "3\n",
      "2\n",
      "1\n",
      "totally cost 54.59557580947876\n"
     ]
    }
   ],
   "source": [
    "time_start  = time.time()\n",
    "svm3 = SVM(train_data, gdalphasolver, kernel = k_polynomial, c = 10)\n",
    "time_end = time.time()\n",
    "print('totally cost',time_end-time_start)"
   ]
  },
  {
   "cell_type": "code",
   "execution_count": 177,
   "metadata": {},
   "outputs": [
    {
     "name": "stdout",
     "output_type": "stream",
     "text": [
      "[-0.00550771 -0.01198897] -0.0005543912174703536\n",
      "Train data fscore (0.705, array([[355, 191],\n",
      "       [ 45, 209]]))\n"
     ]
    }
   ],
   "source": [
    "print(svm3.w, svm3.b)\n",
    "# print(f'Train data fscore = {svm.test(train_xs, train_ys)}')\n",
    "# print(f'Test data fscore = {svm.test(test_xs, test_ys)}')\n",
    "print('Train data fscore', svm3.test(train_xs, train_ys))\n",
    "# print('Test data fscore', svm3.test(test_xs, test_ys))"
   ]
  },
  {
   "cell_type": "code",
   "execution_count": 178,
   "metadata": {},
   "outputs": [
    {
     "data": {
      "image/png": "[encoded data removed]",
      "text/plain": [
       "<Figure size 432x288 with 1 Axes>"
      ]
     },
     "metadata": {
      "needs_background": "light"
     },
     "output_type": "display_data"
    }
   ],
   "source": [
    "svm3.draw_history()"
   ]
  },
  {
   "cell_type": "markdown",
   "metadata": {},
   "source": [
    "The third trial kernel is Gaussian"
   ]
  },
  {
   "cell_type": "code",
   "execution_count": 80,
   "metadata": {},
   "outputs": [
    {
     "name": "stdout",
     "output_type": "stream",
     "text": [
      "50\n",
      "49\n",
      "48\n",
      "47\n",
      "46\n",
      "45\n",
      "44\n",
      "43\n",
      "42\n",
      "41\n",
      "40\n",
      "39\n",
      "38\n",
      "37\n",
      "36\n",
      "35\n",
      "34\n",
      "33\n",
      "32\n",
      "31\n",
      "30\n",
      "29\n",
      "28\n",
      "27\n",
      "26\n",
      "25\n",
      "24\n",
      "23\n",
      "22\n",
      "21\n",
      "20\n",
      "19\n",
      "18\n",
      "17\n",
      "16\n",
      "15\n",
      "14\n",
      "13\n",
      "12\n",
      "11\n",
      "10\n",
      "9\n",
      "8\n",
      "7\n",
      "6\n",
      "5\n",
      "4\n",
      "3\n",
      "2\n",
      "1\n",
      "totally cost 57.732646226882935\n"
     ]
    }
   ],
   "source": [
    "time_start  = time.time()\n",
    "svm4 = SVM(train_data, gdalphasolver, kernel = k_gaussian, c = 10)\n",
    "time_end = time.time()\n",
    "print('totally cost',time_end-time_start)"
   ]
  },
  {
   "cell_type": "code",
   "execution_count": 81,
   "metadata": {},
   "outputs": [
    {
     "name": "stdout",
     "output_type": "stream",
     "text": [
      "[0.01029467 0.01136896] 0.0\n",
      "Train data fscore (0.48375, array([[387, 400],\n",
      "       [ 13,   0]]))\n"
     ]
    }
   ],
   "source": [
    "print(svm4.w, svm4.b)\n",
    "# print(f'Train data fscore = {svm.test(train_xs, train_ys)}')\n",
    "# print(f'Test data fscore = {svm.test(test_xs, test_ys)}')\n",
    "print('Train data fscore', svm4.test(train_xs, train_ys))\n",
    "# print('Test data fscore', svm4.test(test_xs, test_ys))"
   ]
  },
  {
   "cell_type": "code",
   "execution_count": 82,
   "metadata": {},
   "outputs": [
    {
     "data": {
      "image/png": "[encoded data removed]",
      "text/plain": [
       "<Figure size 432x288 with 1 Axes>"
      ]
     },
     "metadata": {
      "needs_background": "light"
     },
     "output_type": "display_data"
    }
   ],
   "source": [
    "svm4.draw_history()"
   ]
  },
  {
   "cell_type": "markdown",
   "metadata": {},
   "source": [
    "From this three trials, we can find same results with previuos three trials on SMO."
   ]
  },
  {
   "cell_type": "markdown",
   "metadata": {},
   "source": [
    "In conclusion, SMO have better performance than QP because SMO can have more iterations with less time. And Polynomial \n",
    "kernel have better performance for this data set."
   ]
  }
 ],
 "metadata": {
  "kernelspec": {
   "display_name": "Python 3",
   "language": "python",
   "name": "python3"
  },
  "language_info": {
   "codemirror_mode": {
    "name": "ipython",
    "version": 3
   },
   "file_extension": ".py",
   "mimetype": "text/x-python",
   "name": "python",
   "nbconvert_exporter": "python",
   "pygments_lexer": "ipython3",
   "version": "3.7.1"
  }
 },
 "nbformat": 4,
 "nbformat_minor": 2
}
